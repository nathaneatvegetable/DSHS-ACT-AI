{
  "nbformat": 4,
  "nbformat_minor": 0,
  "metadata": {
    "colab": {
      "name": "二孝36陳卲芃 Week 4 費氏數列.ipynb",
      "provenance": [],
      "authorship_tag": "ABX9TyMZcaY/FkkEHvPwvdpcQw66",
      "include_colab_link": true
    },
    "kernelspec": {
      "name": "python3",
      "display_name": "Python 3"
    }
  },
  "cells": [
    {
      "cell_type": "markdown",
      "metadata": {
        "id": "view-in-github",
        "colab_type": "text"
      },
      "source": [
        "<a href=\"https://colab.research.google.com/github/nathaneatvegetable/DSHS-ACT-AI/blob/master/%E4%BA%8C%E5%AD%9D36%E9%99%B3%E5%8D%B2%E8%8A%83_Week_4_%E8%B2%BB%E6%B0%8F%E6%95%B8%E5%88%97.ipynb\" target=\"_parent\"><img src=\"https://colab.research.google.com/assets/colab-badge.svg\" alt=\"Open In Colab\"/></a>"
      ]
    },
    {
      "cell_type": "code",
      "metadata": {
        "id": "F3aBLMrP6Qz6",
        "outputId": "9da06631-4dcd-4618-f608-5966a3a12988",
        "colab": {
          "base_uri": "https://localhost:8080/",
          "height": 151
        }
      },
      "source": [
        "f = [0, 1]\n",
        "\n",
        "for i in range(1, 13):\n",
        "  f.append(f[i] + f[i-1])\n",
        "\n",
        "print('問題1:')\n",
        "print('見上方程式')\n",
        "print()\n",
        "print('問題2:')\n",
        "print(f[0:10])\n",
        "print()\n",
        "print('問題3:')\n",
        "print(f[12])"
      ],
      "execution_count": null,
      "outputs": [
        {
          "output_type": "stream",
          "text": [
            "問題1:\n",
            "見上方程式\n",
            "\n",
            "問題2:\n",
            "[0, 1, 1, 2, 3, 5, 8, 13, 21, 34]\n",
            "\n",
            "問題3:\n",
            "144\n"
          ],
          "name": "stdout"
        }
      ]
    }
  ]
}